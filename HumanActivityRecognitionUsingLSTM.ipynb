{
 "cells": [
  {
   "cell_type": "markdown",
   "metadata": {},
   "source": [
    "# Activity Recognition using least PulseWidth"
   ]
  },
  {
   "cell_type": "markdown",
   "metadata": {},
   "source": [
    "### Get the data ready"
   ]
  },
  {
   "cell_type": "code",
   "execution_count": 2,
   "metadata": {},
   "outputs": [],
   "source": [
    "#Imports\n",
    "import numpy as np\n",
    "import matplotlib\n",
    "import matplotlib.pyplot as plt\n",
    "import tensorflow as tf\n",
    "from sklearn import metrics\n",
    "import os\n",
    "#Test Commit"
   ]
  },
  {
   "cell_type": "markdown",
   "metadata": {},
   "source": [
    "### What are our inputs and outputs"
   ]
  },
  {
   "cell_type": "code",
   "execution_count": 3,
   "metadata": {},
   "outputs": [],
   "source": [
    "INPUT_SIGNAL_TYPES = [\n",
    "    \"body_acc_x_\",\n",
    "    \"body_acc_y_\",\n",
    "    \"body_acc_z_\",\n",
    "    \"body_gyro_x_\",\n",
    "    \"body_gyro_y_\",\n",
    "    \"body_gyro_z_\",\n",
    "    \"total_acc_x_\",\n",
    "    \"total_acc_y_\",\n",
    "    \"total_acc_z_\"\n",
    "]\n",
    "\n",
    "\n",
    "LABELS = [\n",
    "    \"WALKING\", \n",
    "    \"WALKING_UPSTAIRS\", \n",
    "    \"WALKING_DOWNSTAIRS\", \n",
    "    \"SITTING\", \n",
    "    \"STANDING\", \n",
    "    \"LAYING\"\n",
    "] "
   ]
  },
  {
   "cell_type": "markdown",
   "metadata": {},
   "source": [
    "### Preparing the datset"
   ]
  },
  {
   "cell_type": "code",
   "execution_count": 4,
   "metadata": {},
   "outputs": [],
   "source": [
    "DATA_PATH = \"data/\"\n",
    "TRAIN  = \"train/\"\n",
    "TEST = \"test/\"\n",
    "DATASET_PATH = DATA_PATH + \"UCI HAR Dataset/\" \n",
    "\n",
    "def load_X(X_Signal_Paths):\n",
    "    X_Signals = []\n",
    "    \n",
    "    for signal_type_path in X_Signal_Paths:\n",
    "        file = open(signal_type_path, 'r')\n",
    "        \n",
    "        x_temp = []\n",
    "        for row in file:\n",
    "            row = row.replace('  ',' ').strip().split(' ')\n",
    "            x_temp.append(np.array(row, dtype=np.float32))\n",
    "    \n",
    "        X_Signals.append(x_temp)        \n",
    "        file.close()\n",
    "        \n",
    "    return np.transpose(np.array(X_Signals), (1,2,0))\n",
    "\n",
    "X_train_signals_path = [\n",
    " DATASET_PATH + TRAIN + \"Inertial Signals/\" + signal + \"train.txt\" for signal in INPUT_SIGNAL_TYPES]\n",
    "\n",
    "X_test_signals_path = [\n",
    " DATASET_PATH + TEST + \"Inertial Signals/\" + signal + \"test.txt\" for signal in INPUT_SIGNAL_TYPES]\n",
    "\n",
    "X_train = load_X(X_train_signals_path)\n",
    "X_test = load_X(X_test_signals_path)\n",
    "\n",
    "def load_Y(y_path):\n",
    "    file = open(y_path, 'r')\n",
    "    \n",
    "    y_ = np.array([row.replace(' ','').strip().split() for row in file], dtype = np.int32)\n",
    "\n",
    "    file.close()\n",
    "    \n",
    "    return y_ - 1   ## Done for zero indexing\n",
    "\n",
    "\n",
    "y_train_path = DATASET_PATH + TRAIN + \"y_train.txt\"\n",
    "\n",
    "y_test_path = DATASET_PATH + TEST + \"y_test.txt\"\n",
    "\n",
    "y_train = load_Y(y_train_path)\n",
    "y_test = load_Y(y_test_path)"
   ]
  },
  {
   "cell_type": "markdown",
   "metadata": {},
   "source": [
    "### Specifying our parameters"
   ]
  },
  {
   "cell_type": "code",
   "execution_count": 5,
   "metadata": {},
   "outputs": [
    {
     "name": "stdout",
     "output_type": "stream",
     "text": [
      "Input characteristics\n",
      "X Shape:  (2947, 128, 9)\n",
      "Y Shape:  (2947, 1)\n",
      "Checking whether the data is normalized\n",
      "The mean of the data 0.0991399\n",
      "The std of the data 0.395671\n"
     ]
    }
   ],
   "source": [
    "## Characteristics of the input data\n",
    "training_data_count = len(X_train)  ## 7352 with 50% overlap between each series\n",
    "test_data_count = len(X_test)  ##2947 testing series\n",
    "n_steps = len(X_train[0])    ## should be 128 timesteps per series\n",
    "n_input = len(X_train[0][0])   ## should be 9, 9 kinds of inputs \n",
    "\n",
    "## LSTM parameters \n",
    "n_hidden = 32  ## Number of features in the hidden layers\n",
    "n_classes = 6 ## Output classes\n",
    "\n",
    "## Training HyperParameters \n",
    "learning_rate = 0.0025\n",
    "lambda_loss_amount = 0.0015 ## ToDo\n",
    "training_iters = training_data_count * 300 ## Loop 300 times over the dataset\n",
    "batch_size = 1500 \n",
    "display_iter = 30000\n",
    "\n",
    "print (\"Input characteristics\")\n",
    "print(\"X Shape: \",X_test.shape)\n",
    "print(\"Y Shape: \",y_test.shape)\n",
    "print(\"Checking whether the data is normalized\")\n",
    "print(\"The mean of the data\",np.mean(X_test))\n",
    "print(\"The std of the data\",np.std(X_test))"
   ]
  },
  {
   "cell_type": "markdown",
   "metadata": {},
   "source": [
    "#### So we have a remaining task of one-hot encoding the output labels. Normalizing of the data is already done"
   ]
  },
  {
   "cell_type": "markdown",
   "metadata": {},
   "source": [
    "## Building the Network"
   ]
  },
  {
   "cell_type": "markdown",
   "metadata": {},
   "source": [
    "    First lets define inputs, outputs and weights of the Network"
   ]
  },
  {
   "cell_type": "code",
   "execution_count": 6,
   "metadata": {},
   "outputs": [],
   "source": [
    "## Placeholders for input and output\n",
    "\n",
    "x = tf.placeholder(tf.float32, [None, n_steps, n_input])\n",
    "y = tf.placeholder(tf.float32, [None, n_classes])\n",
    "\n",
    "## Define Weights and Biases by tf.Variables. \n",
    "##Define them using a dictionary, one key for each layer\n",
    "\n",
    "weights = {\n",
    "    'hidden': tf.Variable(tf.random_normal([n_input,n_hidden])),\n",
    "    'out' : tf.Variable(tf.random_normal([n_hidden,n_classes]))\n",
    "}\n",
    "\n",
    "biases = {\n",
    "    'hidden' : tf.Variable(tf.random_normal([n_hidden])),\n",
    "    'out' : tf.Variable(tf.random_normal([n_classes]))\n",
    "}\n",
    "\n"
   ]
  },
  {
   "cell_type": "code",
   "execution_count": 7,
   "metadata": {},
   "outputs": [
    {
     "data": {
      "text/plain": [
       "(<tf.Tensor 'Placeholder:0' shape=(?, 128, 9) dtype=float32>,\n",
       " <tf.Tensor 'Placeholder_1:0' shape=(?, 6) dtype=float32>,\n",
       " {'hidden': <tf.Variable 'Variable:0' shape=(9, 32) dtype=float32_ref>,\n",
       "  'out': <tf.Variable 'Variable_1:0' shape=(32, 6) dtype=float32_ref>},\n",
       " {'hidden': <tf.Variable 'Variable_2:0' shape=(32,) dtype=float32_ref>,\n",
       "  'out': <tf.Variable 'Variable_3:0' shape=(6,) dtype=float32_ref>})"
      ]
     },
     "execution_count": 7,
     "metadata": {},
     "output_type": "execute_result"
    }
   ],
   "source": [
    "x, y, weights, biases"
   ]
  },
  {
   "cell_type": "markdown",
   "metadata": {},
   "source": [
    "Lets define the function to get the batches "
   ]
  },
  {
   "cell_type": "code",
   "execution_count": 8,
   "metadata": {},
   "outputs": [],
   "source": [
    "def getBatchs(_train, step, batch_size):\n",
    "    # Function to fetch a \"batch_size\" amount of data from \"(X|y)_train\" data. \n",
    "    \n",
    "    shape = list(_train.shape)\n",
    "    shape[0] = batch_size\n",
    "    batch_s = np.empty(shape)\n",
    "\n",
    "    for i in range(batch_size):\n",
    "        # Loop index\n",
    "        index = ((step-1)*batch_size + i) % len(_train)\n",
    "        batch_s[i] = _train[index] \n",
    "\n",
    "    return batch_s"
   ]
  },
  {
   "cell_type": "markdown",
   "metadata": {},
   "source": [
    "Also we need one hot encoding to encode the Y"
   ]
  },
  {
   "cell_type": "code",
   "execution_count": 9,
   "metadata": {},
   "outputs": [],
   "source": [
    "def one_hot(y):\n",
    "    \n",
    "    y_ = y.reshape(len(y))\n",
    "    n_values = int(np.max(y_)) + 1\n",
    "    return np.eye(n_values)[np.array(y_, dtype=np.int32)]"
   ]
  },
  {
   "cell_type": "markdown",
   "metadata": {},
   "source": [
    "    Now define the Network"
   ]
  },
  {
   "cell_type": "code",
   "execution_count": 10,
   "metadata": {},
   "outputs": [],
   "source": [
    "def LSTM_HAR(_X, _weights, _biases):\n",
    "    \"\"\"\n",
    "    Here we use the contrib library in the tensorflow for the RNN implementation\n",
    "    \"\"\"\n",
    "    # Function returns a tensorflow LSTM (RNN) artificial neural network from given parameters. \n",
    "    # Moreover, two LSTM cells are stacked which adds deepness to the neural network. \n",
    "    # Note, some code of this notebook is inspired from an slightly different \n",
    "    # RNN architecture used on another dataset, some of the credits goes to \n",
    "    # \"aymericdamien\" under the MIT license.\n",
    "\n",
    "    # (NOTE: This step could be greatly optimised by shaping the dataset once\n",
    "    # input shape: (batch_size, n_steps, n_input)\n",
    "    _X = tf.transpose(_X, [1, 0, 2])  # permute n_steps and batch_size\n",
    "    # Reshape to prepare input to hidden activation\n",
    "    _X = tf.reshape(_X, [-1, n_input]) \n",
    "    # new shape: (n_steps*batch_size, n_input)\n",
    "    \n",
    "    # Linear activation\n",
    "    _X = tf.nn.relu(tf.matmul(_X, _weights['hidden']) + _biases['hidden'])\n",
    "    # Split data because rnn cell needs a list of inputs for the RNN inner loop\n",
    "    _X = tf.split(_X, n_steps, 0) \n",
    "    # new shape: n_steps * (batch_size, n_hidden)\n",
    "\n",
    "    # Define two stacked LSTM cells (two recurrent layers deep) with tensorflow\n",
    "    lstm_cell_1 = tf.contrib.rnn.BasicLSTMCell(n_hidden, forget_bias=1.0, state_is_tuple=True)\n",
    "    lstm_cell_2 = tf.contrib.rnn.BasicLSTMCell(n_hidden, forget_bias=1.0, state_is_tuple=True)\n",
    "    lstm_cells = tf.contrib.rnn.MultiRNNCell([lstm_cell_1, lstm_cell_2], state_is_tuple=True)\n",
    "    # Get LSTM cell output\n",
    "    outputs, states = tf.contrib.rnn.static_rnn(lstm_cells, _X, dtype=tf.float32)\n",
    "\n",
    "    # Get last time step's output feature for a \"many to one\" style classifier, \n",
    "    # as in the image describing RNNs at the top of this page\n",
    "    lstm_last_output = outputs[-1]\n",
    "    \n",
    "    # Linear activation\n",
    "    return tf.matmul(lstm_last_output, _weights['out']) + _biases['out']\n",
    "\n",
    "    "
   ]
  },
  {
   "cell_type": "code",
   "execution_count": 11,
   "metadata": {},
   "outputs": [],
   "source": [
    "pred = LSTM_HAR(x, weights, biases)\n",
    "\n",
    "l2 = lambda_loss_amount * sum(\n",
    "    tf.nn.l2_loss(tf_var) for tf_var in tf.trainable_variables()\n",
    ")\n",
    "\n",
    "cost = tf.reduce_mean(tf.nn.softmax_cross_entropy_with_logits(labels = y, logits=pred)) + l2\n",
    "optimizer = tf.train.AdamOptimizer(learning_rate=learning_rate).minimize(cost)\n",
    "\n",
    "correct_pred = tf.equal(tf.argmax(pred,1),tf.argmax(y,1))\n",
    "accuracy = tf.reduce_mean(tf.cast(correct_pred, tf.float32))"
   ]
  },
  {
   "cell_type": "code",
   "execution_count": 12,
   "metadata": {},
   "outputs": [
    {
     "name": "stdout",
     "output_type": "stream",
     "text": [
      "Training iter #1500:   Batch Loss = 2.905767, Accuracy = 0.12800000607967377\n",
      "PERFORMANCE ON TEST SET: Batch Loss = 2.3118691444396973, Accuracy = 0.22259925305843353\n",
      "Training iter #30000:   Batch Loss = 1.222391, Accuracy = 0.6726666688919067\n",
      "PERFORMANCE ON TEST SET: Batch Loss = 1.2641267776489258, Accuracy = 0.6447234749794006\n",
      "Training iter #60000:   Batch Loss = 1.026893, Accuracy = 0.7553333044052124\n",
      "PERFORMANCE ON TEST SET: Batch Loss = 1.218440055847168, Accuracy = 0.7095351219177246\n",
      "Training iter #90000:   Batch Loss = 0.945616, Accuracy = 0.7753333449363708\n",
      "PERFORMANCE ON TEST SET: Batch Loss = 1.1177282333374023, Accuracy = 0.7102137804031372\n",
      "Training iter #120000:   Batch Loss = 0.766995, Accuracy = 0.8666666746139526\n",
      "PERFORMANCE ON TEST SET: Batch Loss = 1.0048879384994507, Accuracy = 0.7902952432632446\n",
      "Training iter #150000:   Batch Loss = 0.657143, Accuracy = 0.9200000166893005\n",
      "PERFORMANCE ON TEST SET: Batch Loss = 0.9776536226272583, Accuracy = 0.8215134143829346\n",
      "Training iter #180000:   Batch Loss = 0.805613, Accuracy = 0.8206666707992554\n",
      "PERFORMANCE ON TEST SET: Batch Loss = 0.9471962451934814, Accuracy = 0.8147268295288086\n",
      "Training iter #210000:   Batch Loss = 0.714589, Accuracy = 0.8533333539962769\n",
      "PERFORMANCE ON TEST SET: Batch Loss = 0.8504824042320251, Accuracy = 0.851034939289093\n",
      "Training iter #240000:   Batch Loss = 0.514609, Accuracy = 0.949999988079071\n",
      "PERFORMANCE ON TEST SET: Batch Loss = 0.7493507862091064, Accuracy = 0.8785205483436584\n",
      "Training iter #270000:   Batch Loss = 0.495687, Accuracy = 0.9526666402816772\n",
      "PERFORMANCE ON TEST SET: Batch Loss = 0.7328842878341675, Accuracy = 0.8866643905639648\n",
      "Training iter #300000:   Batch Loss = 0.479703, Accuracy = 0.9733333587646484\n",
      "PERFORMANCE ON TEST SET: Batch Loss = 0.7208784222602844, Accuracy = 0.8893790245056152\n",
      "Training iter #330000:   Batch Loss = 0.504336, Accuracy = 0.9673333168029785\n",
      "PERFORMANCE ON TEST SET: Batch Loss = 0.7190701961517334, Accuracy = 0.8819137811660767\n",
      "Training iter #360000:   Batch Loss = 0.510415, Accuracy = 0.9559999704360962\n",
      "PERFORMANCE ON TEST SET: Batch Loss = 0.8317232728004456, Accuracy = 0.8534102439880371\n",
      "Training iter #390000:   Batch Loss = 0.508241, Accuracy = 0.9326666593551636\n",
      "PERFORMANCE ON TEST SET: Batch Loss = 0.6988956928253174, Accuracy = 0.8954869508743286\n",
      "Training iter #420000:   Batch Loss = 0.440615, Accuracy = 0.9646666646003723\n",
      "PERFORMANCE ON TEST SET: Batch Loss = 0.7290751338005066, Accuracy = 0.8744485974311829\n",
      "Training iter #450000:   Batch Loss = 0.455374, Accuracy = 0.949999988079071\n",
      "PERFORMANCE ON TEST SET: Batch Loss = 0.6822189688682556, Accuracy = 0.8941296339035034\n"
     ]
    },
    {
     "ename": "KeyboardInterrupt",
     "evalue": "",
     "output_type": "error",
     "traceback": [
      "\u001b[1;31m---------------------------------------------------------------------------\u001b[0m",
      "\u001b[1;31mKeyboardInterrupt\u001b[0m                         Traceback (most recent call last)",
      "\u001b[1;32m<ipython-input-12-8de1c0402161>\u001b[0m in \u001b[0;36m<module>\u001b[1;34m()\u001b[0m\n\u001b[0;32m     12\u001b[0m \u001b[0mstep\u001b[0m \u001b[1;33m=\u001b[0m \u001b[1;36m1\u001b[0m\u001b[1;33m\u001b[0m\u001b[0m\n\u001b[0;32m     13\u001b[0m \u001b[1;32mwhile\u001b[0m \u001b[0mstep\u001b[0m\u001b[1;33m*\u001b[0m \u001b[0mbatch_size\u001b[0m \u001b[1;33m<=\u001b[0m \u001b[0mtraining_iters\u001b[0m\u001b[1;33m:\u001b[0m\u001b[1;33m\u001b[0m\u001b[0m\n\u001b[1;32m---> 14\u001b[1;33m     \u001b[0mbatch_xs\u001b[0m \u001b[1;33m=\u001b[0m \u001b[0mgetBatchs\u001b[0m\u001b[1;33m(\u001b[0m\u001b[0mX_train\u001b[0m\u001b[1;33m,\u001b[0m \u001b[0mstep\u001b[0m\u001b[1;33m,\u001b[0m \u001b[0mbatch_size\u001b[0m\u001b[1;33m)\u001b[0m\u001b[1;33m\u001b[0m\u001b[0m\n\u001b[0m\u001b[0;32m     15\u001b[0m     \u001b[0mbatch_ys\u001b[0m \u001b[1;33m=\u001b[0m \u001b[0mone_hot\u001b[0m\u001b[1;33m(\u001b[0m\u001b[0mgetBatchs\u001b[0m\u001b[1;33m(\u001b[0m\u001b[0my_train\u001b[0m\u001b[1;33m,\u001b[0m \u001b[0mstep\u001b[0m\u001b[1;33m,\u001b[0m \u001b[0mbatch_size\u001b[0m\u001b[1;33m)\u001b[0m\u001b[1;33m)\u001b[0m\u001b[1;33m\u001b[0m\u001b[0m\n\u001b[0;32m     16\u001b[0m \u001b[1;31m#     print (batch_xs.shape)\u001b[0m\u001b[1;33m\u001b[0m\u001b[1;33m\u001b[0m\u001b[0m\n",
      "\u001b[1;32m<ipython-input-8-924455c772aa>\u001b[0m in \u001b[0;36mgetBatchs\u001b[1;34m(_train, step, batch_size)\u001b[0m\n\u001b[0;32m      9\u001b[0m         \u001b[1;31m# Loop index\u001b[0m\u001b[1;33m\u001b[0m\u001b[1;33m\u001b[0m\u001b[0m\n\u001b[0;32m     10\u001b[0m         \u001b[0mindex\u001b[0m \u001b[1;33m=\u001b[0m \u001b[1;33m(\u001b[0m\u001b[1;33m(\u001b[0m\u001b[0mstep\u001b[0m\u001b[1;33m-\u001b[0m\u001b[1;36m1\u001b[0m\u001b[1;33m)\u001b[0m\u001b[1;33m*\u001b[0m\u001b[0mbatch_size\u001b[0m \u001b[1;33m+\u001b[0m \u001b[0mi\u001b[0m\u001b[1;33m)\u001b[0m \u001b[1;33m%\u001b[0m \u001b[0mlen\u001b[0m\u001b[1;33m(\u001b[0m\u001b[0m_train\u001b[0m\u001b[1;33m)\u001b[0m\u001b[1;33m\u001b[0m\u001b[0m\n\u001b[1;32m---> 11\u001b[1;33m         \u001b[0mbatch_s\u001b[0m\u001b[1;33m[\u001b[0m\u001b[0mi\u001b[0m\u001b[1;33m]\u001b[0m \u001b[1;33m=\u001b[0m \u001b[0m_train\u001b[0m\u001b[1;33m[\u001b[0m\u001b[0mindex\u001b[0m\u001b[1;33m]\u001b[0m\u001b[1;33m\u001b[0m\u001b[0m\n\u001b[0m\u001b[0;32m     12\u001b[0m \u001b[1;33m\u001b[0m\u001b[0m\n\u001b[0;32m     13\u001b[0m     \u001b[1;32mreturn\u001b[0m \u001b[0mbatch_s\u001b[0m\u001b[1;33m\u001b[0m\u001b[0m\n",
      "\u001b[1;31mKeyboardInterrupt\u001b[0m: "
     ]
    }
   ],
   "source": [
    "\n",
    "test_losses = []\n",
    "test_accuracies = []\n",
    "train_losses = []\n",
    "train_accuracies = []\n",
    "\n",
    "sess = tf.InteractiveSession(config=tf.ConfigProto(log_device_placement=True))\n",
    "init = tf.global_variables_initializer()\n",
    "\n",
    "sess.run(init)\n",
    "\n",
    "step = 1\n",
    "while step* batch_size <= training_iters:\n",
    "    batch_xs = getBatchs(X_train, step, batch_size)\n",
    "    batch_ys = one_hot(getBatchs(y_train, step, batch_size))\n",
    "#     print (batch_xs.shape)\n",
    "#     print(batch_ys.shape)\n",
    "    \n",
    "#     assert False\n",
    "    _, loss, acc = sess.run(\n",
    "                    [optimizer, cost, accuracy],\n",
    "                    feed_dict= {\n",
    "                        x: batch_xs,\n",
    "                        y: batch_ys\n",
    "                    }\n",
    "    )\n",
    "    train_losses.append(loss)\n",
    "    train_accuracies.append(acc)\n",
    "    \n",
    "    # Evaluate network only at some steps for faster training: \n",
    "    if (step*batch_size % display_iter == 0) or (step == 1) or (step * batch_size > training_iters):\n",
    "        \n",
    "        # To not spam console, show training accuracy/loss in this \"if\"\n",
    "        print(\"Training iter #\" + str(step*batch_size) + \\\n",
    "              \":   Batch Loss = \" + \"{:.6f}\".format(loss) + \\\n",
    "              \", Accuracy = {}\".format(acc))\n",
    "        \n",
    "        # Evaluation on the test set (no learning made here - just evaluation for diagnosis)\n",
    "        loss, acc = sess.run(\n",
    "            [cost, accuracy], \n",
    "            feed_dict={\n",
    "                x: X_test,\n",
    "                y: one_hot(y_test)\n",
    "            }\n",
    "        )\n",
    "        test_losses.append(loss)\n",
    "        test_accuracies.append(acc)\n",
    "        print(\"PERFORMANCE ON TEST SET: \" + \\\n",
    "              \"Batch Loss = {}\".format(loss) + \\\n",
    "              \", Accuracy = {}\".format(acc))\n",
    "\n",
    "    step += 1\n",
    "\n",
    "print(\"Optimization Finished!\")\n",
    "\n",
    "# Accuracy for test data\n",
    "\n",
    "one_hot_predictions, accuracy, final_loss = sess.run(\n",
    "    [pred, accuracy, cost],\n",
    "    feed_dict={\n",
    "        x: X_test,\n",
    "        y: one_hot(y_test)\n",
    "    }\n",
    ")\n",
    "\n",
    "test_losses.append(final_loss)\n",
    "test_accuracies.append(accuracy)\n",
    "\n",
    "print(\"FINAL RESULT: \" + \\\n",
    "      \"Batch Loss = {}\".format(final_loss) + \\\n",
    "      \", Accuracy = {}\".format(accuracy))"
   ]
  }
 ],
 "metadata": {
  "kernelspec": {
   "display_name": "Python 3",
   "language": "python",
   "name": "python3"
  },
  "language_info": {
   "codemirror_mode": {
    "name": "ipython",
    "version": 3
   },
   "file_extension": ".py",
   "mimetype": "text/x-python",
   "name": "python",
   "nbconvert_exporter": "python",
   "pygments_lexer": "ipython3",
   "version": "3.5.4"
  }
 },
 "nbformat": 4,
 "nbformat_minor": 2
}
