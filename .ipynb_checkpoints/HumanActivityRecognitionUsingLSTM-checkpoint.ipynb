{
 "cells": [
  {
   "cell_type": "markdown",
   "metadata": {},
   "source": [
    "# Activity Recognition using least PulseWidth"
   ]
  },
  {
   "cell_type": "markdown",
   "metadata": {},
   "source": [
    "### Get the data ready"
   ]
  },
  {
   "cell_type": "code",
   "execution_count": 3,
   "metadata": {},
   "outputs": [],
   "source": [
    "#Imports\n",
    "import numpy as np\n",
    "import matplotlib\n",
    "import matplotlib.pyplot as plt\n",
    "import tensorflow as tf\n",
    "from sklearn import metrics\n",
    "import os\n",
    "#Test Commit"
   ]
  },
  {
   "cell_type": "markdown",
   "metadata": {},
   "source": [
    "### What are our inputs and outputs"
   ]
  },
  {
   "cell_type": "code",
   "execution_count": 4,
   "metadata": {},
   "outputs": [],
   "source": [
    "INPUT_SIGNAL_TYPES = [\n",
    "    \"body_acc_x_\",\n",
    "    \"body_acc_y_\",\n",
    "    \"body_acc_z_\",\n",
    "    \"body_gyro_x_\",\n",
    "    \"body_gyro_y_\",\n",
    "    \"body_gyro_z_\",\n",
    "    \"total_acc_x_\",\n",
    "    \"total_acc_y_\",\n",
    "    \"total_acc_z_\"\n",
    "]\n",
    "\n",
    "\n",
    "LABELS = [\n",
    "    \"WALKING\", \n",
    "    \"WALKING_UPSTAIRS\", \n",
    "    \"WALKING_DOWNSTAIRS\", \n",
    "    \"SITTING\", \n",
    "    \"STANDING\", \n",
    "    \"LAYING\"\n",
    "] "
   ]
  },
  {
   "cell_type": "markdown",
   "metadata": {},
   "source": [
    "### Preparing the datset"
   ]
  },
  {
   "cell_type": "code",
   "execution_count": 5,
   "metadata": {},
   "outputs": [],
   "source": [
    "DATA_PATH = \"data/\"\n",
    "TRAIN  = \"train/\"\n",
    "TEST = \"test/\"\n",
    "DATASET_PATH = DATA_PATH + \"UCI HAR Dataset/\" \n",
    "\n",
    "def load_X(X_Signal_Paths):\n",
    "    X_Signals = []\n",
    "    \n",
    "    for signal_type_path in X_Signal_Paths:\n",
    "        file = open(signal_type_path, 'r')\n",
    "        \n",
    "        x_temp = []\n",
    "        for row in file:\n",
    "            row = row.replace('  ',' ').strip().split(' ')\n",
    "            x_temp.append(np.array(row, dtype=np.float32))\n",
    "    \n",
    "        X_Signals.append(x_temp)        \n",
    "        file.close()\n",
    "        \n",
    "    return np.transpose(np.array(X_Signals), (1,2,0))\n",
    "\n",
    "X_train_signals_path = [\n",
    " DATASET_PATH + TRAIN + \"Inertial Signals/\" + signal + \"train.txt\" for signal in INPUT_SIGNAL_TYPES]\n",
    "\n",
    "X_test_signals_path = [\n",
    " DATASET_PATH + TEST + \"Inertial Signals/\" + signal + \"test.txt\" for signal in INPUT_SIGNAL_TYPES]\n",
    "\n",
    "X_train = load_X(X_train_signals_path)\n",
    "X_test = load_X(X_test_signals_path)\n",
    "\n",
    "def load_Y(y_path):\n",
    "    file = open(y_path, 'r')\n",
    "    \n",
    "    y_ = np.array([row.replace(' ','').strip().split() for row in file], dtype = np.int32)\n",
    "\n",
    "    file.close()\n",
    "    \n",
    "    return y_ - 1   ## Done for zero indexing\n",
    "\n",
    "\n",
    "y_train_path = DATASET_PATH + TRAIN + \"y_train.txt\"\n",
    "\n",
    "y_test_path = DATASET_PATH + TEST + \"y_test.txt\"\n",
    "\n",
    "y_train = load_Y(y_train_path)\n",
    "y_test = load_Y(y_test_path)"
   ]
  },
  {
   "cell_type": "code",
   "execution_count": 9,
   "metadata": {},
   "outputs": [
    {
     "data": {
      "text/plain": [
       "(7352, 128, 9)"
      ]
     },
     "execution_count": 9,
     "metadata": {},
     "output_type": "execute_result"
    }
   ],
   "source": [
    "X_train.shape"
   ]
  },
  {
   "cell_type": "markdown",
   "metadata": {},
   "source": [
    "### Specifying our parameters"
   ]
  },
  {
   "cell_type": "code",
   "execution_count": 5,
   "metadata": {},
   "outputs": [
    {
     "name": "stdout",
     "output_type": "stream",
     "text": [
      "Input characteristics\n",
      "X Shape:  (2947, 128, 9)\n",
      "Y Shape:  (2947, 1)\n",
      "Checking whether the data is normalized\n",
      "The mean of the data 0.0991399\n",
      "The std of the data 0.395671\n"
     ]
    }
   ],
   "source": [
    "## Characteristics of the input data\n",
    "training_data_count = len(X_train)  ## 7352 with 50% overlap between each series\n",
    "test_data_count = len(X_test)  ##2947 testing series\n",
    "n_steps = len(X_train[0])    ## should be 128 timesteps per series\n",
    "n_input = len(X_train[0][0])   ## should be 9, 9 kinds of inputs \n",
    "\n",
    "## LSTM parameters \n",
    "n_hidden = 32  ## Number of features in the hidden layers\n",
    "n_classes = 6 ## Output classes\n",
    "\n",
    "## Training HyperParameters \n",
    "learning_rate = 0.0025\n",
    "lambda_loss_amount = 0.0015 ## ToDo\n",
    "training_iters = training_data_count * 300 ## Loop 300 times over the dataset\n",
    "batch_size = 1500 \n",
    "display_iter = 30000\n",
    "\n",
    "print (\"Input characteristics\")\n",
    "print(\"X Shape: \",X_test.shape)\n",
    "print(\"Y Shape: \",y_test.shape)\n",
    "print(\"Checking whether the data is normalized\")\n",
    "print(\"The mean of the data\",np.mean(X_test))\n",
    "print(\"The std of the data\",np.std(X_test))"
   ]
  },
  {
   "cell_type": "markdown",
   "metadata": {},
   "source": [
    "#### So we have a remaining task of one-hot encoding the output labels. Normalizing of the data is already done"
   ]
  },
  {
   "cell_type": "markdown",
   "metadata": {},
   "source": [
    "## Building the Network"
   ]
  },
  {
   "cell_type": "markdown",
   "metadata": {},
   "source": [
    "    First lets define inputs, outputs and weights of the Network"
   ]
  },
  {
   "cell_type": "code",
   "execution_count": 7,
   "metadata": {},
   "outputs": [],
   "source": [
    "## Placeholders for input and output\n",
    "\n",
    "x = tf.placeholder(tf.float32, [None, n_steps, n_input])\n",
    "y = tf.placeholder(tf.float32, n_classes)\n",
    "\n",
    "## Define Weights and Biases by tf.Variables. \n",
    "##Define them using a dictionary, one key for each layer\n",
    "\n",
    "weights = {\n",
    "    'hidden': tf.Variable(tf.random_normal([n_input,n_hidden])),\n",
    "    'out' : tf.Variable(tf.random_normal([n_hidden,n_classes]))\n",
    "}\n",
    "\n",
    "biases = {\n",
    "    'hidden' : tf.Variable(tf.random_normal([n_hidden])),\n",
    "    'out' : tf.Variable(tf.random_normal([n_classes]))\n",
    "}\n",
    "\n"
   ]
  },
  {
   "cell_type": "markdown",
   "metadata": {},
   "source": [
    "Lets define the function to get the batches "
   ]
  },
  {
   "cell_type": "code",
   "execution_count": null,
   "metadata": {},
   "outputs": [],
   "source": [
    "def getBatchs(X, step, batch_size):\n",
    "    \n",
    "    #Transform the input to get more efficientcy\n",
    "    #TODO\n",
    "    shape = list(X.shape)\n",
    "    shape[0] = batch_size\n",
    "    batch_s = np.empty(shape)\n",
    "    \n",
    "    for ii in range(batch_size):\n",
    "        \n",
    "        index = ((step-1)*batch_size + i) % len(train)\n",
    "        batch_s[i] = _train[index]"
   ]
  },
  {
   "cell_type": "markdown",
   "metadata": {},
   "source": [
    "Also we need one hot encoding to encode the Y"
   ]
  },
  {
   "cell_type": "code",
   "execution_count": null,
   "metadata": {},
   "outputs": [],
   "source": [
    "def one_hot(y):\n",
    "    \n",
    "    y_ = y.reshape(len(y))\n",
    "    n_values = int(np.max(y_)) + 1\n",
    "    return np.eye(n_values)[np.array(y_, dtype=np.int32)]"
   ]
  },
  {
   "cell_type": "markdown",
   "metadata": {},
   "source": [
    "    Now define the Network"
   ]
  },
  {
   "cell_type": "code",
   "execution_count": null,
   "metadata": {},
   "outputs": [],
   "source": [
    "def LSTM_HAR(_X, _weights, _biases):\n",
    "    \"\"\"\n",
    "    Here we use the contrib library in the tensorflow for the RNN implementation\n",
    "    \"\"\"\n",
    "    _X = tf.transpose(_X, [1,0,2])\n",
    "    \n",
    "    _X = tf.reshape(_X, [-1,n_input])\n",
    "    \n",
    "    _X = tf.nn.relu(tf.matmul(_X, _weights['hidden']) + _biases['hidden'])\n",
    "    \n",
    "    _X = tf.split(_X, n_steps, 0)\n",
    "    \n",
    "    lstm_cell_1 = tf.contrib.rnn.BasicLSTMCell(n_hidden, forget_bias=1.0, state_is_tuple=True)\n",
    "    lstm_cell_2 = tf.contrib.rnn.BasicLSTMCell(n_hidden, forget_bias=1.0, state_is_tuple=True)\n",
    "    lstm_cells = tf.contrib.rnn.MultiRNNCell([lstm_cell_1,lstm_cell_2], state_is_tuple=True)\n",
    "    \n",
    "    outputs, states = tf.contrib.rnn.static_rnn(lstm_cells, _X, dtype=tf.float32)\n",
    "    \n",
    "    lstm_last_output = outputs[-1]\n",
    "    \n",
    "    return tf.matmul(lstm_last_output,_weights['out']) + _biases['out']\n",
    "    "
   ]
  },
  {
   "cell_type": "code",
   "execution_count": null,
   "metadata": {},
   "outputs": [],
   "source": [
    "pred = LSTH_HAR(x, weights, biases)\n",
    "\n",
    "l2 = lambda_loss_amount * sum(\n",
    "    tf.nn.l2_loss(tf_var) for tf_var in tf.trainable_variables()\n",
    ")\n",
    "\n",
    "cost = tf.reduce_mean(tf.nn.softmax_cross_entropy_with_logits(labels = y, logits=pred)) + l2\n",
    "optimizer = tf.train.AdamOptimizer(learning_rate=learning_rate).minimize(cost)\n",
    "\n",
    "correct_pred = tf.equal(tf.argmax(pred,1),tf.argmax(y,1))\n",
    "accuracy = tf.reduce_mean(tf.cast(correct_pred, tf.float32))"
   ]
  },
  {
   "cell_type": "code",
   "execution_count": null,
   "metadata": {},
   "outputs": [],
   "source": [
    "test_losses = []\n",
    "test_accuracies = []\n",
    "train_losses = []\n",
    "train_accuracies = []\n",
    "\n",
    "sess = tf.InteractiveSession(config=tf.ConfigProto(log_device_placement=True))\n",
    "init = tf.global_variables_initializer()\n",
    "\n",
    "sess.run(init)\n",
    "\n",
    "step = 1\n",
    "while step* batch_size <= training_iters:\n",
    "    batch_xs = getBatchs(X_train, step, batch_size)\n",
    "    batch_ys = one_hot(getBatchs(y_train, step, batch_size))\n",
    "    \n",
    "    _, loss, acc = sess.run(\n",
    "                    [optimizer, cost, accuracy],\n",
    "                    feed_dict= {\n",
    "                        x: batch_xs\n",
    "                        y: batch_ys\n",
    "                    }\n",
    "    )\n",
    "    train_losses.append(loss)\n",
    "    train_accuracies.append(acc)"
   ]
  }
 ],
 "metadata": {
  "kernelspec": {
   "display_name": "Python 3",
   "language": "python",
   "name": "python3"
  },
  "language_info": {
   "codemirror_mode": {
    "name": "ipython",
    "version": 3
   },
   "file_extension": ".py",
   "mimetype": "text/x-python",
   "name": "python",
   "nbconvert_exporter": "python",
   "pygments_lexer": "ipython3",
   "version": "3.5.4"
  }
 },
 "nbformat": 4,
 "nbformat_minor": 2
}
