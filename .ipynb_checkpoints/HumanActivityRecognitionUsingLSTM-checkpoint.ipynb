{
 "cells": [
  {
   "cell_type": "markdown",
   "metadata": {},
   "source": [
    "# Activity Recognition using least PulseWidth"
   ]
  },
  {
   "cell_type": "markdown",
   "metadata": {},
   "source": [
    "### Get the data ready"
   ]
  },
  {
   "cell_type": "code",
   "execution_count": 2,
   "metadata": {},
   "outputs": [
    {
     "name": "stderr",
     "output_type": "stream",
     "text": [
      "/Users/yonarp/anaconda3/lib/python3.6/importlib/_bootstrap.py:219: RuntimeWarning: compiletime version 3.5 of module 'tensorflow.python.framework.fast_tensor_util' does not match runtime version 3.6\n",
      "  return f(*args, **kwds)\n"
     ]
    }
   ],
   "source": [
    "#Imports\n",
    "import numpy as np\n",
    "import matplotlib\n",
    "import matplotlib.pyplot as plt\n",
    "import tensorflow as tf\n",
    "from sklearn import metrics\n",
    "import os\n",
    "#Test Commit"
   ]
  },
  {
   "cell_type": "markdown",
   "metadata": {},
   "source": [
    "### What are our inputs and outputs"
   ]
  },
  {
   "cell_type": "code",
   "execution_count": 3,
   "metadata": {},
   "outputs": [],
   "source": [
    "INPUT_SIGNAL_TYPES = [\n",
    "    \"body_acc_x_\",\n",
    "    \"body_acc_y_\",\n",
    "    \"body_acc_z_\",\n",
    "    \"body_gyro_x_\",\n",
    "    \"body_gyro_y_\",\n",
    "    \"body_gyro_z_\",\n",
    "    \"total_acc_x_\",\n",
    "    \"total_acc_y_\",\n",
    "    \"total_acc_z_\"\n",
    "]\n",
    "\n",
    "\n",
    "LABELS = [\n",
    "    \"WALKING\", \n",
    "    \"WALKING_UPSTAIRS\", \n",
    "    \"WALKING_DOWNSTAIRS\", \n",
    "    \"SITTING\", \n",
    "    \"STANDING\", \n",
    "    \"LAYING\"\n",
    "] "
   ]
  },
  {
   "cell_type": "markdown",
   "metadata": {},
   "source": [
    "### Preparing the datset"
   ]
  },
  {
   "cell_type": "code",
   "execution_count": 4,
   "metadata": {},
   "outputs": [],
   "source": [
    "DATA_PATH = \"data/\"\n",
    "TRAIN  = \"train/\"\n",
    "TEST = \"test/\"\n",
    "DATASET_PATH = DATA_PATH + \"UCI HAR Dataset/\" \n",
    "\n",
    "def load_X(X_Signal_Paths):\n",
    "    X_Signals = []\n",
    "    \n",
    "    for signal_type_path in X_Signal_Paths:\n",
    "        file = open(signal_type_path, 'r')\n",
    "        \n",
    "        x_temp = []\n",
    "        for row in file:\n",
    "            row = row.replace('  ',' ').strip().split(' ')\n",
    "            x_temp.append(np.array(row, dtype=np.float32))\n",
    "    \n",
    "        X_Signals.append(x_temp)        \n",
    "        file.close()\n",
    "        \n",
    "    return np.transpose(np.array(X_Signals), (1,2,0))\n",
    "\n",
    "X_train_signals_path = [\n",
    " DATASET_PATH + TRAIN + \"Inertial Signals/\" + signal + \"train.txt\" for signal in INPUT_SIGNAL_TYPES]\n",
    "\n",
    "X_test_signals_path = [\n",
    " DATASET_PATH + TEST + \"Inertial Signals/\" + signal + \"test.txt\" for signal in INPUT_SIGNAL_TYPES]\n",
    "\n",
    "X_train = load_X(X_train_signals_path)\n",
    "X_test = load_X(X_test_signals_path)\n",
    "\n",
    "def load_Y(y_path):\n",
    "    file = open(y_path, 'r')\n",
    "    \n",
    "    y_ = np.array([row.replace(' ','').strip().split() for row in file], dtype = np.int32)\n",
    "\n",
    "    file.close()\n",
    "    \n",
    "    return y_ - 1   ## Done for zero indexing\n",
    "\n",
    "\n",
    "y_train_path = DATASET_PATH + TRAIN + \"y_train.txt\"\n",
    "\n",
    "y_test_path = DATASET_PATH + TEST + \"y_test.txt\"\n",
    "\n",
    "y_train = load_Y(y_train_path)\n",
    "y_test = load_Y(y_test_path)"
   ]
  },
  {
   "cell_type": "code",
   "execution_count": 8,
   "metadata": {},
   "outputs": [
    {
     "data": {
      "text/plain": [
       "(128, 9)"
      ]
     },
     "execution_count": 8,
     "metadata": {},
     "output_type": "execute_result"
    }
   ],
   "source": [
    "X_train[1].shape"
   ]
  },
  {
   "cell_type": "markdown",
   "metadata": {},
   "source": [
    "### Specifying our parameters"
   ]
  },
  {
   "cell_type": "code",
   "execution_count": 5,
   "metadata": {},
   "outputs": [
    {
     "name": "stdout",
     "output_type": "stream",
     "text": [
      "Input characteristics\n",
      "X Shape:  (2947, 128, 9)\n",
      "Y Shape:  (2947, 1)\n",
      "Checking whether the data is normalized\n",
      "The mean of the data 0.0991399\n",
      "The std of the data 0.395671\n"
     ]
    }
   ],
   "source": [
    "## Characteristics of the input data\n",
    "training_data_count = len(X_train)  ## 7352 with 50% overlap between each series\n",
    "test_data_count = len(X_test)  ##2947 testing series\n",
    "n_steps = len(X_train[0])    ## should be 128 timesteps per series\n",
    "n_input = len(X_train[0][0])   ## should be 9, 9 kinds of inputs \n",
    "\n",
    "## LSTM parameters \n",
    "n_hidden = 32  ## Number of features in the hidden layers\n",
    "n_classes = 6 ## Output classes\n",
    "\n",
    "## Training HyperParameters \n",
    "learning_rate = 0.0025\n",
    "lambda_loss_amount = 0.0015 ## ToDo\n",
    "training_iters = training_data_count * 300 ## Loop 300 times over the dataset\n",
    "batch_size = 1500 \n",
    "display_iter = 30000\n",
    "\n",
    "print (\"Input characteristics\")\n",
    "print(\"X Shape: \",X_test.shape)\n",
    "print(\"Y Shape: \",y_test.shape)\n",
    "print(\"Checking whether the data is normalized\")\n",
    "print(\"The mean of the data\",np.mean(X_test))\n",
    "print(\"The std of the data\",np.std(X_test))"
   ]
  },
  {
   "cell_type": "markdown",
   "metadata": {},
   "source": [
    "#### So we have a remaining task of one-hot encoding the output labels. Normalizing of the data is already done"
   ]
  },
  {
   "cell_type": "markdown",
   "metadata": {},
   "source": [
    "## Building the Network"
   ]
  },
  {
   "cell_type": "markdown",
   "metadata": {},
   "source": [
    "    First lets define inputs, outputs and weights of the Network"
   ]
  },
  {
   "cell_type": "code",
   "execution_count": 7,
   "metadata": {},
   "outputs": [],
   "source": [
    "## Placeholders for input and output\n",
    "\n",
    "x = tf.placeholder(tf.float32, [None, n_steps, n_input])\n",
    "y = tf.placeholder(tf.float32, n_classes)\n",
    "\n",
    "## Define Weights and Biases by tf.Variables. \n",
    "##Define them using a dictionary, one key for each layer\n",
    "\n",
    "weights = {\n",
    "    'hidden': tf.Variable(tf.random_normal([n_input,n_hidden])),\n",
    "    'out' : tf.Variable(tf.random_normal([n_hidden,n_classes]))\n",
    "}\n",
    "\n",
    "biases = {\n",
    "    'hidden' : tf.Variable(tf.random_normal([n_hidden])),\n",
    "    'out' : tf.Variable(tf.random_normal([n_classes]))\n",
    "}\n",
    "\n"
   ]
  },
  {
   "cell_type": "markdown",
   "metadata": {},
   "source": [
    "    Now define the Network"
   ]
  },
  {
   "cell_type": "code",
   "execution_count": null,
   "metadata": {},
   "outputs": [],
   "source": [
    "def LSTM_HAR(_X, _weights, _biases):\n",
    "    \"\"\"\n",
    "    Here we use the \n",
    "    \"\"\""
   ]
  }
 ],
 "metadata": {
  "kernelspec": {
   "display_name": "Python 3",
   "language": "python",
   "name": "python3"
  },
  "language_info": {
   "codemirror_mode": {
    "name": "ipython",
    "version": 3
   },
   "file_extension": ".py",
   "mimetype": "text/x-python",
   "name": "python",
   "nbconvert_exporter": "python",
   "pygments_lexer": "ipython3",
   "version": "3.6.3"
  }
 },
 "nbformat": 4,
 "nbformat_minor": 2
}
